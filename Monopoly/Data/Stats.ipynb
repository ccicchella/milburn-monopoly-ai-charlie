{
 "cells": [
  {
   "cell_type": "code",
   "execution_count": 25,
   "metadata": {},
   "outputs": [],
   "source": [
    "import pandas as pd\n",
    "import random\n",
    "data = pd.read_csv('Data/newboard.csv')\n",
    "class Tile:\n",
    "    def __init__(self, attributes):\n",
    "        if attributes['Color'] == 'None':\n",
    "            self.group = attributes['Space']\n",
    "        else:\n",
    "            self.group = attributes['Color']\n",
    "        self.n = 0\n",
    "        self.position = [attributes['Position(X)'], attributes['Position(Y)']]\n",
    "        self.name = attributes['Name']\n",
    "        self.rent = attributes['RentBuild5']\n",
    "        \n",
    "    def landOn(self):\n",
    "        self.n += 1\n",
    "    def rentEx(self, odds):\n",
    "        return self.rent * odds"
   ]
  },
  {
   "cell_type": "code",
   "execution_count": 26,
   "metadata": {},
   "outputs": [],
   "source": [
    "board = [[], [], [], []]\n",
    "for index,row in data.iterrows():\n",
    "    side = index // 10\n",
    "    attributes = dict(row)\n",
    "    tile = Tile(attributes)\n",
    "    board[side].append(tile)"
   ]
  },
  {
   "cell_type": "code",
   "execution_count": 27,
   "metadata": {},
   "outputs": [],
   "source": [
    "class Player:\n",
    "    def __init__(self):\n",
    "        self.position = [0,0]\n",
    "        self.movecount = 0\n",
    "    def move(self):\n",
    "        self.rollDice()\n",
    "        \n",
    "        if(self.position[0]  + int((self.movecount + self.position[1]) / 10) > 3):\n",
    "            self.position[0] = self.position[0] + int((self.movecount + self.position[1]) / 10) - 4\n",
    "            self.position[1] = (self.position[1] + self.movecount) % 10\n",
    "            \n",
    "        else:\n",
    "            self.position[0] = int((self.movecount + self.position[1]) / 10) + self.position[0]\n",
    "            self.position[1] = (self.position[1] + self.movecount) % 10\n",
    "    def rollDice(self):\n",
    "        dice1 = random.randint(1,6)\n",
    "        dice2 = random.randint(1,6)\n",
    "        self.movecount = dice1+dice2"
   ]
  },
  {
   "cell_type": "code",
   "execution_count": 28,
   "metadata": {},
   "outputs": [],
   "source": [
    "player = Player()\n",
    "for i in range(0, 10000000):\n",
    "    player.move()\n",
    "    board[player.position[0]][player.position[1]].landOn()"
   ]
  },
  {
   "cell_type": "code",
   "execution_count": 29,
   "metadata": {},
   "outputs": [],
   "source": [
    "results = {}\n",
    "tiles = []\n",
    "for i in board:\n",
    "    for j in i:\n",
    "        results[j] = j.n\n",
    "        tiles.append(j)"
   ]
  },
  {
   "cell_type": "code",
   "execution_count": 30,
   "metadata": {},
   "outputs": [],
   "source": [
    "group = []\n",
    "value = []\n",
    "for i in results.keys():\n",
    "    group.append(i.group)\n",
    "    value.append(i.n / 10000000)\n"
   ]
  },
  {
   "cell_type": "code",
   "execution_count": 31,
   "metadata": {},
   "outputs": [
    {
     "data": {
      "text/plain": [
       "<BarContainer object of 40 artists>"
      ]
     },
     "execution_count": 31,
     "metadata": {},
     "output_type": "execute_result"
    },
    {
     "data": {
      "image/png": "[encoded data removed]",
      "text/plain": [
       "<Figure size 432x288 with 1 Axes>"
      ]
     },
     "metadata": {
      "needs_background": "light"
     },
     "output_type": "display_data"
    }
   ],
   "source": [
    "import matplotlib.pyplot as plt\n",
    "plt.bar(group, value)"
   ]
  },
  {
   "cell_type": "code",
   "execution_count": 32,
   "metadata": {},
   "outputs": [],
   "source": [
    "exRent = dict()\n",
    "for i, tile in enumerate(group):\n",
    "    if tile not in exRent.keys():\n",
    "        exRent[tile] = [tiles[i].rentEx(value[i])]\n",
    "    else:\n",
    "        exRent[tile].append(tiles[i].rentEx(value[i]))"
   ]
  },
  {
   "cell_type": "code",
   "execution_count": 34,
   "metadata": {},
   "outputs": [],
   "source": [
    "values = []\n",
    "names = []\n",
    "for i in exRent.keys():\n",
    "    values.append(sum(exRent[i]))\n",
    "    names.append(i)"
   ]
  },
  {
   "cell_type": "code",
   "execution_count": 36,
   "metadata": {},
   "outputs": [
    {
     "data": {
      "text/plain": [
       "([0, 1, 2, 3, 4, 5, 6, 7, 8, 9, 10, 11, 12, 13, 14, 15, 16],\n",
       " [Text(0, 0, ''),\n",
       "  Text(0, 0, ''),\n",
       "  Text(0, 0, ''),\n",
       "  Text(0, 0, ''),\n",
       "  Text(0, 0, ''),\n",
       "  Text(0, 0, ''),\n",
       "  Text(0, 0, ''),\n",
       "  Text(0, 0, ''),\n",
       "  Text(0, 0, ''),\n",
       "  Text(0, 0, ''),\n",
       "  Text(0, 0, ''),\n",
       "  Text(0, 0, ''),\n",
       "  Text(0, 0, ''),\n",
       "  Text(0, 0, ''),\n",
       "  Text(0, 0, ''),\n",
       "  Text(0, 0, ''),\n",
       "  Text(0, 0, '')])"
      ]
     },
     "execution_count": 36,
     "metadata": {},
     "output_type": "execute_result"
    },
    {
     "data": {
      "image/png": "[encoded data removed]",
      "text/plain": [
       "<Figure size 432x288 with 1 Axes>"
      ]
     },
     "metadata": {
      "needs_background": "light"
     },
     "output_type": "display_data"
    }
   ],
   "source": [
    "plt.bar(names, values)\n",
    "plt.xticks(rotation = 45)\n",
    " "
   ]
  },
  {
   "cell_type": "code",
   "execution_count": null,
   "metadata": {},
   "outputs": [],
   "source": []
  }
 ],
 "metadata": {
  "kernelspec": {
   "display_name": "Python 3",
   "language": "python",
   "name": "python3"
  },
  "language_info": {
   "codemirror_mode": {
    "name": "ipython",
    "version": 3
   },
   "file_extension": ".py",
   "mimetype": "text/x-python",
   "name": "python",
   "nbconvert_exporter": "python",
   "pygments_lexer": "ipython3",
   "version": "3.8.5"
  }
 },
 "nbformat": 4,
 "nbformat_minor": 4
}
